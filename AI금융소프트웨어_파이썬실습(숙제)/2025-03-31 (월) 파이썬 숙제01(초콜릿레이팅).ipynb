{
  "nbformat": 4,
  "nbformat_minor": 0,
  "metadata": {
    "colab": {
      "provenance": []
    },
    "kernelspec": {
      "name": "python3",
      "display_name": "Python 3"
    },
    "language_info": {
      "name": "python"
    }
  },
  "cells": [
    {
      "cell_type": "code",
      "execution_count": 3,
      "metadata": {
        "colab": {
          "base_uri": "https://localhost:8080/"
        },
        "id": "8n3bksMhcGJE",
        "outputId": "14da4725-d803-4582-89da-5bfdbf1bfc7a"
      },
      "outputs": [
        {
          "output_type": "stream",
          "name": "stdout",
          "text": [
            "차원: 2\n",
            "모양: (1795, 4)\n",
            "원소 수: 7180\n",
            "[[1.000e+00 2.016e+03 6.300e-01 3.750e+00]\n",
            " [2.000e+00 2.015e+03 7.000e-01 2.750e+00]\n",
            " [3.000e+00 2.015e+03 7.000e-01 3.000e+00]\n",
            " ...\n",
            " [1.793e+03 2.011e+03 6.500e-01 3.500e+00]\n",
            " [1.794e+03 2.011e+03 6.200e-01 3.250e+00]\n",
            " [1.795e+03 2.010e+03 6.500e-01 3.000e+00]]\n"
          ]
        }
      ],
      "source": [
        "import numpy as np\n",
        "data = np.loadtxt('chocolate_rating.csv', delimiter=',')\n",
        "print('차원:', data.ndim)\n",
        "print('모양:', data.shape)\n",
        "print('원소 수:', data.size)\n",
        "print(data)"
      ]
    },
    {
      "cell_type": "code",
      "source": [
        "# 모든 초콜릿의 평균 평점을 알아보기\n",
        "ratings_mean = data[:, 3].mean()\n",
        "print(ratings_mean)"
      ],
      "metadata": {
        "colab": {
          "base_uri": "https://localhost:8080/"
        },
        "id": "4HFhwy_GcwCz",
        "outputId": "c336cf79-7096-4c7e-a7b4-aad7b423d7c0"
      },
      "execution_count": 6,
      "outputs": [
        {
          "output_type": "stream",
          "name": "stdout",
          "text": [
            "3.185933147632312\n"
          ]
        }
      ]
    },
    {
      "cell_type": "code",
      "source": [
        "#평점이 4이상인 우수 초콜릿을 high_level로 저장. 우수 초콜릿의 번호를 정수로 변환\n",
        "high_level = data[data[:, 3] >= 4]\n",
        "high_id = high_level[:, 0].astype(np.int64)\n",
        "print('우수 초콜릿 수:', high_id.size)\n",
        "print(high_id)"
      ],
      "metadata": {
        "colab": {
          "base_uri": "https://localhost:8080/"
        },
        "id": "6E3v_jStdMzF",
        "outputId": "fa8d587e-eea9-457c-bfae-aed3c2cb4ab0"
      },
      "execution_count": 8,
      "outputs": [
        {
          "output_type": "stream",
          "name": "stdout",
          "text": [
            "우수 초콜릿 수: 100\n",
            "[  10   18   21   55   57   77   78   79   84   87   88   93  108  109\n",
            "  118  124  153  180  181  187  223  232  233  240  243  244  245  248\n",
            "  257  312  316  317  358  437  503  567  573  574  582  601  650  687\n",
            "  690  691  701  720  730  800  828  862  864  865  866  883  919  993\n",
            " 1088 1089 1118 1119 1120 1204 1241 1245 1247 1274 1277 1278 1289 1291\n",
            " 1293 1295 1323 1331 1336 1378 1394 1426 1428 1433 1479 1488 1513 1516\n",
            " 1529 1530 1531 1533 1536 1537 1544 1545 1664 1683 1686 1688 1694 1700\n",
            " 1740 1757]\n"
          ]
        }
      ]
    },
    {
      "cell_type": "code",
      "source": [
        "# 우수 초콜릿의 카카오 함유량 빈도를 분석. unique() 함수는 배열에서 중복값을 제거하여 남은 값의 배열과 빈도수를 반환\n",
        "high_kakao = high_level[:, 2]\n",
        "unique_values, value_counts = np.unique(high_kakao, return_counts=True)\n",
        "print('카카오 함유량:', unique_values)\n",
        "print('함유량별 빈도수:', value_counts)"
      ],
      "metadata": {
        "colab": {
          "base_uri": "https://localhost:8080/"
        },
        "id": "1S6oKXtFflGw",
        "outputId": "7d40fabe-17e2-417c-bfae-6ffb39aa3a72"
      },
      "execution_count": 9,
      "outputs": [
        {
          "output_type": "stream",
          "name": "stdout",
          "text": [
            "카카오 함유량: [0.6  0.63 0.64 0.65 0.66 0.67 0.68 0.69 0.7  0.71 0.72 0.73 0.74 0.75\n",
            " 0.78 0.8  0.88]\n",
            "함유량별 빈도수: [ 1  3  4  2  1  3  2  2 45  1 11  1  4 17  1  1  1]\n"
          ]
        }
      ]
    },
    {
      "cell_type": "code",
      "source": [
        "# 우수 초콜릿 중 가장 빈도수가 큰 카카오 함유량을 구함\n",
        "max_index = np.argmax(value_counts)\n",
        "print(unique_values[max_index])\n",
        "print('우수 초콜릿', high_id.size, '가지 중', value_counts[max_index],\n",
        "      '가지의 카카오 함유량이', unique_values[max_index] * 100, '%입니다.')"
      ],
      "metadata": {
        "colab": {
          "base_uri": "https://localhost:8080/"
        },
        "id": "cMFFu2qwgOfF",
        "outputId": "d086ff18-0c97-48e4-a18f-5bbf003e5536"
      },
      "execution_count": 16,
      "outputs": [
        {
          "output_type": "stream",
          "name": "stdout",
          "text": [
            "0.7\n",
            "우수 초콜릿 100 가지 중 45 가지의 카카오 함유량이 70.0 %입니다.\n"
          ]
        }
      ]
    }
  ]
}