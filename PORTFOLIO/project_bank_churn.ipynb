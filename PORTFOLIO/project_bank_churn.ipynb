{
  "nbformat": 4,
  "nbformat_minor": 0,
  "metadata": {
    "colab": {
      "provenance": []
    },
    "kernelspec": {
      "name": "python3",
      "display_name": "Python 3"
    },
    "language_info": {
      "name": "python"
    }
  },
  "cells": [
    {
      "cell_type": "markdown",
      "source": [
        "# **Bank Customer Churn (이진분류) 분석, 머신러닝, 딥러닝 모델 생성**"
      ],
      "metadata": {
        "id": "33lkIQVgyqDJ"
      }
    },
    {
      "cell_type": "code",
      "execution_count": null,
      "metadata": {
        "colab": {
          "base_uri": "https://localhost:8080/"
        },
        "id": "M6K2aS6NVQtu",
        "outputId": "82256b84-f9af-4bf6-95cc-a41599bc3c63",
        "collapsed": true
      },
      "outputs": [
        {
          "output_type": "stream",
          "name": "stdout",
          "text": [
            "<class 'pandas.core.frame.DataFrame'>\n",
            "RangeIndex: 10000 entries, 0 to 9999\n",
            "Data columns (total 12 columns):\n",
            " #   Column            Non-Null Count  Dtype  \n",
            "---  ------            --------------  -----  \n",
            " 0   customer_id       10000 non-null  int64  \n",
            " 1   credit_score      10000 non-null  int64  \n",
            " 2   country           10000 non-null  object \n",
            " 3   gender            10000 non-null  object \n",
            " 4   age               10000 non-null  int64  \n",
            " 5   tenure            10000 non-null  int64  \n",
            " 6   balance           10000 non-null  float64\n",
            " 7   products_number   10000 non-null  int64  \n",
            " 8   credit_card       10000 non-null  int64  \n",
            " 9   active_member     10000 non-null  int64  \n",
            " 10  estimated_salary  10000 non-null  float64\n",
            " 11  churn             10000 non-null  int64  \n",
            "dtypes: float64(2), int64(8), object(2)\n",
            "memory usage: 937.6+ KB\n",
            "None\n",
            "    customer_id  credit_score  country  gender  age  tenure    balance  \\\n",
            "0      15634602           619   France  Female   42       2       0.00   \n",
            "1      15647311           608    Spain  Female   41       1   83807.86   \n",
            "2      15619304           502   France  Female   42       8  159660.80   \n",
            "3      15701354           699   France  Female   39       1       0.00   \n",
            "4      15737888           850    Spain  Female   43       2  125510.82   \n",
            "..          ...           ...      ...     ...  ...     ...        ...   \n",
            "95     15699461           515    Spain    Male   35      10  176273.95   \n",
            "96     15738721           773    Spain    Male   41       9  102827.44   \n",
            "97     15693683           814  Germany    Male   29       8   97086.40   \n",
            "98     15604348           710    Spain    Male   22       8       0.00   \n",
            "99     15633059           413   France    Male   34       9       0.00   \n",
            "\n",
            "    products_number  credit_card  active_member  estimated_salary  churn  \n",
            "0                 1            1              1         101348.88      1  \n",
            "1                 1            0              1         112542.58      0  \n",
            "2                 3            1              0         113931.57      1  \n",
            "3                 2            0              0          93826.63      0  \n",
            "4                 1            1              1          79084.10      0  \n",
            "..              ...          ...            ...               ...    ...  \n",
            "95                1            0              1         121277.78      0  \n",
            "96                1            0              1          64595.25      0  \n",
            "97                2            1              1         197276.13      0  \n",
            "98                2            0              0          99645.04      0  \n",
            "99                2            0              0           6534.18      0  \n",
            "\n",
            "[100 rows x 12 columns]\n",
            "      customer_id  credit_score  country  gender  age  tenure    balance  \\\n",
            "9900     15645896           646  Germany    Male   39       6  121681.91   \n",
            "9901     15802909           706  Germany  Female   56       3  139603.22   \n",
            "9902     15797665           730   France  Female   27       7       0.00   \n",
            "9903     15778959           606   France  Female   36      10       0.00   \n",
            "9904     15722532           690    Spain  Female   36      10   91760.11   \n",
            "...           ...           ...      ...     ...  ...     ...        ...   \n",
            "9995     15606229           771   France    Male   39       5       0.00   \n",
            "9996     15569892           516   France    Male   35      10   57369.61   \n",
            "9997     15584532           709   France  Female   36       7       0.00   \n",
            "9998     15682355           772  Germany    Male   42       3   75075.31   \n",
            "9999     15628319           792   France  Female   28       4  130142.79   \n",
            "\n",
            "      products_number  credit_card  active_member  estimated_salary  churn  \n",
            "9900                2            0              1          61793.47      0  \n",
            "9901                1            1              1          86383.61      0  \n",
            "9902                2            1              0         144099.48      0  \n",
            "9903                2            0              1         155641.46      0  \n",
            "9904                1            1              1         135784.94      0  \n",
            "...               ...          ...            ...               ...    ...  \n",
            "9995                2            1              0          96270.64      0  \n",
            "9996                1            1              1         101699.77      0  \n",
            "9997                1            0              1          42085.58      1  \n",
            "9998                2            1              0          92888.52      1  \n",
            "9999                1            1              0          38190.78      0  \n",
            "\n",
            "[100 rows x 12 columns]\n",
            "credit_score        0\n",
            "country             0\n",
            "gender              0\n",
            "age                 0\n",
            "tenure              0\n",
            "balance             0\n",
            "products_number     0\n",
            "credit_card         0\n",
            "active_member       0\n",
            "estimated_salary    0\n",
            "churn               0\n",
            "dtype: int64\n"
          ]
        }
      ],
      "source": [
        "import pandas as pd\n",
        "import numpy as np\n",
        "\n",
        "# 데이터 로드(3개)\n",
        "df = pd.read_csv('Bank Customer Churn Prediction.csv', encoding='utf-8')\n",
        "\n",
        "print(df.info())\n",
        "\n",
        "print(df.head(100))\n",
        "print(df.tail(100))\n",
        "# 필요한 칼럼들만을 이용해서 DataFrame 재구성\n",
        "df = df.drop(columns=['customer_id'])\n",
        "\n",
        "# 불완전한 데이터 확인\n",
        "print(df.isna().sum())\n",
        "# 결측 데이터 없음"
      ]
    },
    {
      "cell_type": "code",
      "source": [
        "import matplotlib.pyplot as plt\n",
        "\n",
        "df_sorted_by_ages = df.sort_values(by=['age'], axis=0)\n",
        "df_sorted_by_ages_stepped = df_sorted_by_ages.iloc[::500]\n",
        "print(df_sorted_by_ages_stepped.head(50))\n",
        "\n",
        "plt.figure(figsize=(20, 10))\n",
        "plt.scatter(df_sorted_by_ages_stepped['age'].iloc[:], df_sorted_by_ages_stepped['churn'].iloc[:])\n",
        "\n",
        "plt.show()"
      ],
      "metadata": {
        "colab": {
          "base_uri": "https://localhost:8080/",
          "height": 1000
        },
        "id": "P8AE3w37R_0o",
        "outputId": "735495c9-39ab-4cd4-874f-923612c289e5"
      },
      "execution_count": null,
      "outputs": [
        {
          "output_type": "stream",
          "name": "stdout",
          "text": [
            "      credit_score  country  gender  age  tenure    balance  products_number  \\\n",
            "1678           570   France  Female   18       4   82767.42                1   \n",
            "6889           473   France  Female   25       6  110666.42                2   \n",
            "2118           460   France  Female   27       7       0.00                2   \n",
            "4865           590   France  Female   29       4       0.00                2   \n",
            "1691           591    Spain    Male   31       8       0.00                1   \n",
            "9516           557   France  Female   32       3  123502.53                1   \n",
            "1804           552   France    Male   33       5  140931.57                1   \n",
            "1747           586  Germany    Male   34       9   74309.81                1   \n",
            "4283           725   France    Male   35       7   75915.75                1   \n",
            "9773           532   France    Male   36       4       0.00                2   \n",
            "4259           790    Spain  Female   37       3       0.00                3   \n",
            "8884           686  Germany  Female   38       2   93569.86                3   \n",
            "898            523   France  Female   40       2  102967.41                1   \n",
            "782            517   France    Male   41       2       0.00                2   \n",
            "2634           661    Spain  Female   42       9   75361.44                1   \n",
            "7506           674  Germany  Female   44       4  131593.85                1   \n",
            "6044           684   France    Male   46       0       0.00                2   \n",
            "3381           738   France    Male   49       6  106770.82                1   \n",
            "2830           575    Spain    Male   53       1   84903.33                2   \n",
            "880            749   France  Female   60       6       0.00                1   \n",
            "\n",
            "      credit_card  active_member  estimated_salary  churn  \n",
            "1678            1              0          71811.90      0  \n",
            "6889            0              0          46758.42      0  \n",
            "2118            1              0         156150.08      1  \n",
            "4865            1              0         121846.81      0  \n",
            "1691            1              1         141677.33      0  \n",
            "9516            1              1          69826.80      0  \n",
            "1804            0              1          10921.50      0  \n",
            "1747            1              0          15034.93      0  \n",
            "4283            1              0         150507.43      0  \n",
            "9773            1              1         132798.78      0  \n",
            "4259            0              0          98897.32      0  \n",
            "8884            0              0          10137.34      1  \n",
            "898             1              0         128702.10      1  \n",
            "782             0              1          75937.47      0  \n",
            "2634            1              0          27608.12      1  \n",
            "7506            0              1         171345.02      1  \n",
            "6044            1              1          36376.97      0  \n",
            "3381            1              0         123499.27      0  \n",
            "2830            0              1          26015.80      0  \n",
            "880             1              0          17978.68      1  \n"
          ]
        },
        {
          "output_type": "display_data",
          "data": {
            "text/plain": [
              "<Figure size 2000x1000 with 1 Axes>"
            ],
            "image/png": "[encoded data removed]"
          },
          "metadata": {}
        }
      ]
    },
    {
      "cell_type": "markdown",
      "source": [
        "# **데이터 인코딩 및 컬럼명 정리**"
      ],
      "metadata": {
        "id": "51i1JELcbqrx"
      }
    },
    {
      "cell_type": "code",
      "source": [
        "import matplotlib.pyplot as plt\n",
        "import seaborn as sns\n",
        "import pandas as pd\n",
        "\n",
        "# feature와 target으로 분리\n",
        "df_X = df.drop(columns=['churn'])\n",
        "df_y = df['churn']\n",
        "\n",
        "# 레이블값에 대한 인코딩 수행\n",
        "df_X = pd.get_dummies(df_X, drop_first=True)\n",
        "\n",
        "print(df_X.info())\n",
        "\n",
        "# Regression 분석을 위한 컬럼명 정리(Regression formula 해석시 컬럼에 공백, 특수문자 등이 포함되어 있으면 오류가 발생)\n",
        "df_X.columns = df_X.columns.str.replace(' ', '').str.replace('-', '').str.replace('(', '').str.replace(')', '')\n",
        "\n",
        "print(df_X.info())"
      ],
      "metadata": {
        "colab": {
          "base_uri": "https://localhost:8080/"
        },
        "id": "jFLfgMoDWHNG",
        "outputId": "1fdcf653-c63f-418c-f598-9338eb20f90a"
      },
      "execution_count": null,
      "outputs": [
        {
          "output_type": "stream",
          "name": "stdout",
          "text": [
            "<class 'pandas.core.frame.DataFrame'>\n",
            "RangeIndex: 10000 entries, 0 to 9999\n",
            "Data columns (total 11 columns):\n",
            " #   Column            Non-Null Count  Dtype  \n",
            "---  ------            --------------  -----  \n",
            " 0   credit_score      10000 non-null  int64  \n",
            " 1   age               10000 non-null  int64  \n",
            " 2   tenure            10000 non-null  int64  \n",
            " 3   balance           10000 non-null  float64\n",
            " 4   products_number   10000 non-null  int64  \n",
            " 5   credit_card       10000 non-null  int64  \n",
            " 6   active_member     10000 non-null  int64  \n",
            " 7   estimated_salary  10000 non-null  float64\n",
            " 8   country_Germany   10000 non-null  bool   \n",
            " 9   country_Spain     10000 non-null  bool   \n",
            " 10  gender_Male       10000 non-null  bool   \n",
            "dtypes: bool(3), float64(2), int64(6)\n",
            "memory usage: 654.4 KB\n",
            "None\n",
            "<class 'pandas.core.frame.DataFrame'>\n",
            "RangeIndex: 10000 entries, 0 to 9999\n",
            "Data columns (total 11 columns):\n",
            " #   Column            Non-Null Count  Dtype  \n",
            "---  ------            --------------  -----  \n",
            " 0   credit_score      10000 non-null  int64  \n",
            " 1   age               10000 non-null  int64  \n",
            " 2   tenure            10000 non-null  int64  \n",
            " 3   balance           10000 non-null  float64\n",
            " 4   products_number   10000 non-null  int64  \n",
            " 5   credit_card       10000 non-null  int64  \n",
            " 6   active_member     10000 non-null  int64  \n",
            " 7   estimated_salary  10000 non-null  float64\n",
            " 8   country_Germany   10000 non-null  bool   \n",
            " 9   country_Spain     10000 non-null  bool   \n",
            " 10  gender_Male       10000 non-null  bool   \n",
            "dtypes: bool(3), float64(2), int64(6)\n",
            "memory usage: 654.4 KB\n",
            "None\n"
          ]
        }
      ]
    },
    {
      "cell_type": "markdown",
      "source": [
        "# **데이터를 0 과 1 사이의 값으로 scaling**"
      ],
      "metadata": {
        "id": "sdaGc789yJ8Z"
      }
    },
    {
      "cell_type": "code",
      "source": [
        "from sklearn.preprocessing import MinMaxScaler\n",
        "\n",
        "features = df_X.columns.values\n",
        "print(features)\n",
        "\n",
        "scaler = MinMaxScaler(feature_range=(0, 1))\n",
        "scaler.fit(df_X)\n",
        "df_X = pd.DataFrame(scaler.transform(df_X))\n",
        "\n",
        "print(df_X.columns)\n",
        "df_X.columns = features\n",
        "print(\"$\" * 100)\n",
        "print(df_X)"
      ],
      "metadata": {
        "colab": {
          "base_uri": "https://localhost:8080/"
        },
        "id": "PI32iLuZZz7r",
        "outputId": "de9f5bb0-8516-477a-ea6e-a4c805d9d02a"
      },
      "execution_count": null,
      "outputs": [
        {
          "output_type": "stream",
          "name": "stdout",
          "text": [
            "['credit_score' 'age' 'tenure' 'balance' 'products_number' 'credit_card'\n",
            " 'active_member' 'estimated_salary' 'country_Germany' 'country_Spain'\n",
            " 'gender_Male']\n",
            "RangeIndex(start=0, stop=11, step=1)\n",
            "$$$$$$$$$$$$$$$$$$$$$$$$$$$$$$$$$$$$$$$$$$$$$$$$$$$$$$$$$$$$$$$$$$$$$$$$$$$$$$$$$$$$$$$$$$$$$$$$$$$$\n",
            "      credit_score       age  tenure   balance  products_number  credit_card  \\\n",
            "0            0.538  0.324324     0.2  0.000000         0.000000          1.0   \n",
            "1            0.516  0.310811     0.1  0.334031         0.000000          0.0   \n",
            "2            0.304  0.324324     0.8  0.636357         0.666667          1.0   \n",
            "3            0.698  0.283784     0.1  0.000000         0.333333          0.0   \n",
            "4            1.000  0.337838     0.2  0.500246         0.000000          1.0   \n",
            "...            ...       ...     ...       ...              ...          ...   \n",
            "9995         0.842  0.283784     0.5  0.000000         0.333333          1.0   \n",
            "9996         0.332  0.229730     1.0  0.228657         0.000000          1.0   \n",
            "9997         0.718  0.243243     0.7  0.000000         0.000000          0.0   \n",
            "9998         0.844  0.324324     0.3  0.299226         0.333333          1.0   \n",
            "9999         0.884  0.135135     0.4  0.518708         0.000000          1.0   \n",
            "\n",
            "      active_member  estimated_salary  country_Germany  country_Spain  \\\n",
            "0               1.0          0.506735              0.0            0.0   \n",
            "1               1.0          0.562709              0.0            1.0   \n",
            "2               0.0          0.569654              0.0            0.0   \n",
            "3               0.0          0.469120              0.0            0.0   \n",
            "4               1.0          0.395400              0.0            1.0   \n",
            "...             ...               ...              ...            ...   \n",
            "9995            0.0          0.481341              0.0            0.0   \n",
            "9996            1.0          0.508490              0.0            0.0   \n",
            "9997            1.0          0.210390              0.0            0.0   \n",
            "9998            0.0          0.464429              1.0            0.0   \n",
            "9999            0.0          0.190914              0.0            0.0   \n",
            "\n",
            "      gender_Male  \n",
            "0             0.0  \n",
            "1             0.0  \n",
            "2             0.0  \n",
            "3             0.0  \n",
            "4             0.0  \n",
            "...           ...  \n",
            "9995          1.0  \n",
            "9996          1.0  \n",
            "9997          0.0  \n",
            "9998          1.0  \n",
            "9999          0.0  \n",
            "\n",
            "[10000 rows x 11 columns]\n"
          ]
        }
      ]
    },
    {
      "cell_type": "markdown",
      "source": [
        "# **로지스틱 회귀 요약**"
      ],
      "metadata": {
        "id": "lhw2Cv2rjWsR"
      }
    },
    {
      "cell_type": "code",
      "source": [
        "import statsmodels.formula.api as sfa\n",
        "import statsmodels.api as sm\n",
        "\n",
        "# 로지스틱 회귀 분석을 위해 feature와 target으로 분리했던 데이터 임시 합병\n",
        "full_df = pd.concat([df_X, df_y], axis=1)\n",
        "\n",
        "# formula 생성 과정\n",
        "indep_vars = df_X.columns.to_list()\n",
        "indep_vars_str = ' + '.join(indep_vars)\n",
        "formula = f\"churn ~ {indep_vars_str}\"\n",
        "print(formula)\n",
        "\n",
        "# 생성한 formula를 이용해 종속변수 ~ 독립변수 식의 파라미터 전달\n",
        "logis = sm.Logit.from_formula(formula=formula, data=full_df)\n",
        "result = logis.fit()\n",
        "\n",
        "print(result.summary())\n",
        "print('OR')\n",
        "print(np.exp(result.params))"
      ],
      "metadata": {
        "colab": {
          "base_uri": "https://localhost:8080/"
        },
        "id": "MXzr-tsoWwwk",
        "outputId": "11f8909b-8a98-4b68-be25-7ea3d82fa829"
      },
      "execution_count": null,
      "outputs": [
        {
          "output_type": "stream",
          "name": "stdout",
          "text": [
            "churn ~ credit_score + age + tenure + balance + products_number + credit_card + active_member + estimated_salary + country_Germany + country_Spain + gender_Male\n",
            "Optimization terminated successfully.\n",
            "         Current function value: 0.428068\n",
            "         Iterations 6\n",
            "                           Logit Regression Results                           \n",
            "==============================================================================\n",
            "Dep. Variable:                  churn   No. Observations:                10000\n",
            "Model:                          Logit   Df Residuals:                     9988\n",
            "Method:                           MLE   Df Model:                           11\n",
            "Date:                Thu, 10 Jul 2025   Pseudo R-squ.:                  0.1532\n",
            "Time:                        04:17:25   Log-Likelihood:                -4280.7\n",
            "converged:                       True   LL-Null:                       -5054.9\n",
            "Covariance Type:            nonrobust   LLR p-value:                     0.000\n",
            "====================================================================================\n",
            "                       coef    std err          z      P>|z|      [0.025      0.975]\n",
            "------------------------------------------------------------------------------------\n",
            "Intercept           -2.4190      0.146    -16.576      0.000      -2.705      -2.133\n",
            "credit_score        -0.3342      0.140     -2.384      0.017      -0.609      -0.059\n",
            "age                  5.3802      0.191     28.230      0.000       5.007       5.754\n",
            "tenure              -0.1595      0.094     -1.705      0.088      -0.343       0.024\n",
            "balance              0.6616      0.129      5.128      0.000       0.409       0.915\n",
            "products_number     -0.3046      0.141     -2.154      0.031      -0.582      -0.027\n",
            "credit_card         -0.0447      0.059     -0.753      0.452      -0.161       0.072\n",
            "active_member       -1.0754      0.058    -18.643      0.000      -1.189      -0.962\n",
            "estimated_salary     0.0961      0.095      1.015      0.310      -0.090       0.282\n",
            "country_Germany      0.7747      0.068     11.448      0.000       0.642       0.907\n",
            "country_Spain        0.0352      0.071      0.499      0.618      -0.103       0.174\n",
            "gender_Male         -0.5285      0.054     -9.699      0.000      -0.635      -0.422\n",
            "====================================================================================\n",
            "OR\n",
            "Intercept             0.089010\n",
            "credit_score          0.715936\n",
            "age                 217.075351\n",
            "tenure                0.852578\n",
            "balance               1.937960\n",
            "products_number       0.737442\n",
            "credit_card           0.956307\n",
            "active_member         0.341146\n",
            "estimated_salary      1.100903\n",
            "country_Germany       2.169972\n",
            "country_Spain         1.035845\n",
            "gender_Male           0.589499\n",
            "dtype: float64\n"
          ]
        }
      ]
    },
    {
      "cell_type": "markdown",
      "source": [
        "# **데이터내의 churn 비율 시각화**"
      ],
      "metadata": {
        "id": "lTRuw13vfuCd"
      }
    },
    {
      "cell_type": "code",
      "source": [
        "import matplotlib.pyplot as plt\n",
        "import matplotlib.ticker as mtick\n",
        "\n",
        "# colors = ['#4D3425','#E4512B']\n",
        "colors = ['green','red']\n",
        "ax = (df['churn'].value_counts()*100.0 /len(df_X)).plot(kind='bar', stacked = True, rot = 0, color = colors, figsize = (8,6))\n",
        "ax.yaxis.set_major_formatter(mtick.PercentFormatter())\n",
        "ax.set_ylabel('% Customers',size = 14)\n",
        "ax.set_xlabel('Churn',size = 14)\n",
        "ax.set_title('Churn Rate', size = 14)\n",
        "\n",
        "# create a list to collect the plt.patches data\n",
        "totals = []\n",
        "\n",
        "# find the values and append to list\n",
        "for i in ax.patches:\n",
        "    totals.append(i.get_width())\n",
        "\n",
        "# set individual bar lables using above list\n",
        "total = sum(totals)\n",
        "\n",
        "for i in ax.patches:\n",
        "    # get_width pulls left or right; get_y pushes up or down\n",
        "    ax.text(i.get_x()+.15, i.get_height()-4.0,\n",
        "            str(round((i.get_height()/total), 1))+'%',\n",
        "            fontsize=12,\n",
        "            color='white',\n",
        "           weight = 'bold')"
      ],
      "metadata": {
        "colab": {
          "base_uri": "https://localhost:8080/",
          "height": 570
        },
        "id": "hymRelZAYHCY",
        "outputId": "c776d4cc-4137-4476-eb07-5432788257f7"
      },
      "execution_count": null,
      "outputs": [
        {
          "output_type": "display_data",
          "data": {
            "text/plain": [
              "<Figure size 800x600 with 1 Axes>"
            ],
            "image/png": "[encoded data removed]"
          },
          "metadata": {}
        }
      ]
    },
    {
      "cell_type": "markdown",
      "source": [
        "# **머신러닝 - Logistic Regression 모델**"
      ],
      "metadata": {
        "id": "2GDRdXSJx4-V"
      }
    },
    {
      "cell_type": "code",
      "source": [
        "from sklearn.model_selection import train_test_split\n",
        "from sklearn.linear_model import LogisticRegression\n",
        "from sklearn import metrics\n",
        "from sklearn.metrics import classification_report\n",
        "# 데이터 셋을 학습, 테스트 데이터로 분할\n",
        "X_train, X_test, y_train, y_test = train_test_split(df_X, df_y, test_size=0.3, random_state=30) # random_state는 30일때가 best\n",
        "# 모델 정의(로지스틱회귀)\n",
        "model_LR = LogisticRegression()\n",
        "# 모델 학습\n",
        "model_LR.fit(X_train, y_train)\n",
        "# 모델 검증\n",
        "pred_LR = model_LR.predict(X_test)\n",
        "\n",
        "print('Linear Regression model accuracy:', metrics.accuracy_score(y_test, pred_LR))\n",
        "print(classification_report(y_test, pred_LR))\n",
        "\n",
        "# 각 계수들의 가중치 시각화\n",
        "weights = pd.Series(model_LR.coef_[0],\n",
        "                 index=df_X.columns.values)\n",
        "print (weights.sort_values(ascending = False)[:10].plot(kind='bar'))"
      ],
      "metadata": {
        "colab": {
          "base_uri": "https://localhost:8080/",
          "height": 742
        },
        "id": "-XBu-G6FYfjf",
        "outputId": "efb6000d-fc31-4aa0-daec-2b132f527552"
      },
      "execution_count": null,
      "outputs": [
        {
          "output_type": "stream",
          "name": "stdout",
          "text": [
            "Linear Regression model accuracy: 0.8063333333333333\n",
            "              precision    recall  f1-score   support\n",
            "\n",
            "           0       0.82      0.97      0.89      2363\n",
            "           1       0.63      0.21      0.31       637\n",
            "\n",
            "    accuracy                           0.81      3000\n",
            "   macro avg       0.73      0.59      0.60      3000\n",
            "weighted avg       0.78      0.81      0.77      3000\n",
            "\n",
            "Axes(0.125,0.11;0.775x0.77)\n"
          ]
        },
        {
          "output_type": "display_data",
          "data": {
            "text/plain": [
              "<Figure size 640x480 with 1 Axes>"
            ],
            "image/png": "[encoded data removed]"
          },
          "metadata": {}
        }
      ]
    },
    {
      "cell_type": "markdown",
      "source": [
        "# **머신러닝 - RandomForest 모델**"
      ],
      "metadata": {
        "id": "FIVwOHhZzPw9"
      }
    },
    {
      "cell_type": "code",
      "source": [
        "from sklearn.model_selection import train_test_split\n",
        "from sklearn.ensemble import RandomForestClassifier\n",
        "from sklearn import metrics\n",
        "from sklearn.metrics import classification_report\n",
        "# 데이터 셋을 학습, 테스트 데이터로 분할\n",
        "X_train, X_test, y_train, y_test = train_test_split(df_X, df_y, test_size=0.3, random_state=40) # random_state는 40일때가 best\n",
        "\n",
        "byunsu = 10\n",
        "predict_list = []\n",
        "while (byunsu <= 1000):\n",
        "  # 모델 정의(랜덤포레스트)\n",
        "  model_RF = RandomForestClassifier(n_estimators=byunsu, oob_score=True)\n",
        "  # 모델 학습\n",
        "  model_RF.fit(X_train, y_train)\n",
        "  # 모델 검증\n",
        "  pred_RF = model_RF.predict(X_test)\n",
        "\n",
        "  print(f'n_estimators: {byunsu} | Random Forest model accuracy: {metrics.accuracy_score(y_test, pred_RF)}')\n",
        "  predict_list.append(metrics.accuracy_score(y_test, pred_RF))\n",
        "  byunsu = byunsu + 10\n",
        "  # print(classification_report(y_test, pred_RF))"
      ],
      "metadata": {
        "colab": {
          "base_uri": "https://localhost:8080/"
        },
        "id": "66ltxD_maTG8",
        "outputId": "9b894b9d-c903-49cc-a7b0-e2d44a6a2c5c"
      },
      "execution_count": null,
      "outputs": [
        {
          "metadata": {
            "tags": null
          },
          "name": "stderr",
          "output_type": "stream",
          "text": [
            "/usr/local/lib/python3.11/dist-packages/sklearn/ensemble/_forest.py:612: UserWarning: Some inputs do not have OOB scores. This probably means too few trees were used to compute any reliable OOB estimates.\n",
            "  warn(\n"
          ]
        },
        {
          "output_type": "stream",
          "name": "stdout",
          "text": [
            "n_estimators: 10 | Random Forest model accuracy: 0.8486666666666667\n",
            "n_estimators: 20 | Random Forest model accuracy: 0.8493333333333334\n",
            "n_estimators: 30 | Random Forest model accuracy: 0.8583333333333333\n",
            "n_estimators: 40 | Random Forest model accuracy: 0.8593333333333333\n",
            "n_estimators: 50 | Random Forest model accuracy: 0.8586666666666667\n",
            "n_estimators: 60 | Random Forest model accuracy: 0.8633333333333333\n",
            "n_estimators: 70 | Random Forest model accuracy: 0.8596666666666667\n",
            "n_estimators: 80 | Random Forest model accuracy: 0.8603333333333333\n",
            "n_estimators: 90 | Random Forest model accuracy: 0.8616666666666667\n",
            "n_estimators: 100 | Random Forest model accuracy: 0.858\n",
            "n_estimators: 110 | Random Forest model accuracy: 0.8616666666666667\n",
            "n_estimators: 120 | Random Forest model accuracy: 0.8623333333333333\n",
            "n_estimators: 130 | Random Forest model accuracy: 0.8623333333333333\n",
            "n_estimators: 140 | Random Forest model accuracy: 0.858\n",
            "n_estimators: 150 | Random Forest model accuracy: 0.8606666666666667\n",
            "n_estimators: 160 | Random Forest model accuracy: 0.8596666666666667\n",
            "n_estimators: 170 | Random Forest model accuracy: 0.8613333333333333\n",
            "n_estimators: 180 | Random Forest model accuracy: 0.8603333333333333\n",
            "n_estimators: 190 | Random Forest model accuracy: 0.8626666666666667\n",
            "n_estimators: 200 | Random Forest model accuracy: 0.859\n",
            "n_estimators: 210 | Random Forest model accuracy: 0.8583333333333333\n",
            "n_estimators: 220 | Random Forest model accuracy: 0.861\n",
            "n_estimators: 230 | Random Forest model accuracy: 0.8616666666666667\n",
            "n_estimators: 240 | Random Forest model accuracy: 0.8606666666666667\n",
            "n_estimators: 250 | Random Forest model accuracy: 0.8613333333333333\n",
            "n_estimators: 260 | Random Forest model accuracy: 0.8613333333333333\n",
            "n_estimators: 270 | Random Forest model accuracy: 0.8616666666666667\n",
            "n_estimators: 280 | Random Forest model accuracy: 0.8613333333333333\n",
            "n_estimators: 290 | Random Forest model accuracy: 0.862\n",
            "n_estimators: 300 | Random Forest model accuracy: 0.8626666666666667\n",
            "n_estimators: 310 | Random Forest model accuracy: 0.8606666666666667\n",
            "n_estimators: 320 | Random Forest model accuracy: 0.8613333333333333\n",
            "n_estimators: 330 | Random Forest model accuracy: 0.8603333333333333\n",
            "n_estimators: 340 | Random Forest model accuracy: 0.8623333333333333\n",
            "n_estimators: 350 | Random Forest model accuracy: 0.8593333333333333\n",
            "n_estimators: 360 | Random Forest model accuracy: 0.86\n",
            "n_estimators: 370 | Random Forest model accuracy: 0.861\n",
            "n_estimators: 380 | Random Forest model accuracy: 0.8616666666666667\n",
            "n_estimators: 390 | Random Forest model accuracy: 0.863\n",
            "n_estimators: 400 | Random Forest model accuracy: 0.86\n",
            "n_estimators: 410 | Random Forest model accuracy: 0.8613333333333333\n",
            "n_estimators: 420 | Random Forest model accuracy: 0.86\n",
            "n_estimators: 430 | Random Forest model accuracy: 0.8606666666666667\n",
            "n_estimators: 440 | Random Forest model accuracy: 0.8623333333333333\n",
            "n_estimators: 450 | Random Forest model accuracy: 0.8593333333333333\n",
            "n_estimators: 460 | Random Forest model accuracy: 0.8613333333333333\n",
            "n_estimators: 470 | Random Forest model accuracy: 0.8626666666666667\n",
            "n_estimators: 480 | Random Forest model accuracy: 0.863\n",
            "n_estimators: 490 | Random Forest model accuracy: 0.862\n",
            "n_estimators: 500 | Random Forest model accuracy: 0.8616666666666667\n",
            "n_estimators: 510 | Random Forest model accuracy: 0.86\n",
            "n_estimators: 520 | Random Forest model accuracy: 0.863\n",
            "n_estimators: 530 | Random Forest model accuracy: 0.8613333333333333\n",
            "n_estimators: 540 | Random Forest model accuracy: 0.861\n",
            "n_estimators: 550 | Random Forest model accuracy: 0.8613333333333333\n",
            "n_estimators: 560 | Random Forest model accuracy: 0.861\n",
            "n_estimators: 570 | Random Forest model accuracy: 0.862\n",
            "n_estimators: 580 | Random Forest model accuracy: 0.8613333333333333\n",
            "n_estimators: 590 | Random Forest model accuracy: 0.8616666666666667\n",
            "n_estimators: 600 | Random Forest model accuracy: 0.8616666666666667\n",
            "n_estimators: 610 | Random Forest model accuracy: 0.8613333333333333\n",
            "n_estimators: 620 | Random Forest model accuracy: 0.862\n",
            "n_estimators: 630 | Random Forest model accuracy: 0.861\n",
            "n_estimators: 640 | Random Forest model accuracy: 0.8626666666666667\n",
            "n_estimators: 650 | Random Forest model accuracy: 0.861\n",
            "n_estimators: 660 | Random Forest model accuracy: 0.8606666666666667\n",
            "n_estimators: 670 | Random Forest model accuracy: 0.861\n",
            "n_estimators: 680 | Random Forest model accuracy: 0.8623333333333333\n",
            "n_estimators: 690 | Random Forest model accuracy: 0.86\n",
            "n_estimators: 700 | Random Forest model accuracy: 0.862\n",
            "n_estimators: 710 | Random Forest model accuracy: 0.862\n",
            "n_estimators: 720 | Random Forest model accuracy: 0.862\n",
            "n_estimators: 730 | Random Forest model accuracy: 0.8613333333333333\n",
            "n_estimators: 740 | Random Forest model accuracy: 0.861\n",
            "n_estimators: 750 | Random Forest model accuracy: 0.862\n",
            "n_estimators: 760 | Random Forest model accuracy: 0.863\n",
            "n_estimators: 770 | Random Forest model accuracy: 0.8613333333333333\n",
            "n_estimators: 780 | Random Forest model accuracy: 0.8603333333333333\n",
            "n_estimators: 790 | Random Forest model accuracy: 0.861\n",
            "n_estimators: 800 | Random Forest model accuracy: 0.8606666666666667\n",
            "n_estimators: 810 | Random Forest model accuracy: 0.8603333333333333\n",
            "n_estimators: 820 | Random Forest model accuracy: 0.8636666666666667\n",
            "n_estimators: 830 | Random Forest model accuracy: 0.8606666666666667\n",
            "n_estimators: 840 | Random Forest model accuracy: 0.861\n",
            "n_estimators: 850 | Random Forest model accuracy: 0.8623333333333333\n",
            "n_estimators: 860 | Random Forest model accuracy: 0.862\n",
            "n_estimators: 870 | Random Forest model accuracy: 0.863\n",
            "n_estimators: 880 | Random Forest model accuracy: 0.8603333333333333\n",
            "n_estimators: 890 | Random Forest model accuracy: 0.862\n",
            "n_estimators: 900 | Random Forest model accuracy: 0.8623333333333333\n",
            "n_estimators: 910 | Random Forest model accuracy: 0.8613333333333333\n",
            "n_estimators: 920 | Random Forest model accuracy: 0.8606666666666667\n",
            "n_estimators: 930 | Random Forest model accuracy: 0.8623333333333333\n",
            "n_estimators: 940 | Random Forest model accuracy: 0.8626666666666667\n",
            "n_estimators: 950 | Random Forest model accuracy: 0.8606666666666667\n",
            "n_estimators: 960 | Random Forest model accuracy: 0.8633333333333333\n",
            "n_estimators: 970 | Random Forest model accuracy: 0.862\n",
            "n_estimators: 980 | Random Forest model accuracy: 0.8613333333333333\n",
            "n_estimators: 990 | Random Forest model accuracy: 0.8626666666666667\n",
            "n_estimators: 1000 | Random Forest model accuracy: 0.8613333333333333\n"
          ]
        }
      ]
    },
    {
      "cell_type": "code",
      "source": [
        "import matplotlib.pyplot as plt\n",
        "import numpy as np\n",
        "\n",
        "x_values = list(range(10, 1001))\n",
        "x_values = x_values[::10]\n",
        "x_values_np = np.array(x_values)\n",
        "\n",
        "plt.plot(x_values, predict_list)\n",
        "plt.show()"
      ],
      "metadata": {
        "colab": {
          "base_uri": "https://localhost:8080/",
          "height": 430
        },
        "id": "ogHR_0vqiyLy",
        "outputId": "d38101c2-12b7-4311-c2c6-c39d8470969c"
      },
      "execution_count": null,
      "outputs": [
        {
          "output_type": "display_data",
          "data": {
            "text/plain": [
              "<Figure size 640x480 with 1 Axes>"
            ],
            "image/png": "[encoded data removed]"
          },
          "metadata": {}
        }
      ]
    },
    {
      "cell_type": "markdown",
      "source": [
        "# **머신러닝 - KNN 모델**"
      ],
      "metadata": {
        "id": "IpyqQ0Y82Tse"
      }
    },
    {
      "cell_type": "code",
      "source": [
        "from sklearn.model_selection import train_test_split\n",
        "from sklearn.neighbors import KNeighborsClassifier\n",
        "from sklearn import metrics\n",
        "from sklearn.metrics import classification_report\n",
        "# 데이터 셋을 학습, 테스트 데이터로 분할\n",
        "X_train, X_test, y_train, y_test = train_test_split(df_X, df_y, test_size=0.3, random_state=50) # random_state는 50일때가 best\n",
        "\n",
        "window_size = 1\n",
        "knn_predicts = []\n",
        "while window_size <= 100:\n",
        "  # 모델 정의(KNN)\n",
        "  model_KNN = KNeighborsClassifier(n_neighbors=window_size) # 윈도우사이즈는 100이 적당하군\n",
        "  # 모델 학습\n",
        "  model_KNN.fit(X_train, y_train)\n",
        "  # 모델 검증\n",
        "  pred_KNN = model_KNN.predict(X_test)\n",
        "\n",
        "  print(f'n_neighbors: {window_size} | KNN model accuracy: {metrics.accuracy_score(y_test, pred_KNN)}')\n",
        "  knn_predicts.append(metrics.accuracy_score(y_test, pred_KNN))\n",
        "  window_size = window_size + 1\n",
        "  # print(classification_report(y_test, pred_KNN))"
      ],
      "metadata": {
        "colab": {
          "base_uri": "https://localhost:8080/"
        },
        "id": "IBUOArxbbTYF",
        "outputId": "2c2a6177-acc0-4e19-edeb-a3517855d11c"
      },
      "execution_count": null,
      "outputs": [
        {
          "output_type": "stream",
          "name": "stdout",
          "text": [
            "n_neighbors: 1 | KNN model accuracy: 0.7773333333333333\n",
            "n_neighbors: 2 | KNN model accuracy: 0.8053333333333333\n",
            "n_neighbors: 3 | KNN model accuracy: 0.7966666666666666\n",
            "n_neighbors: 4 | KNN model accuracy: 0.814\n",
            "n_neighbors: 5 | KNN model accuracy: 0.807\n",
            "n_neighbors: 6 | KNN model accuracy: 0.8136666666666666\n",
            "n_neighbors: 7 | KNN model accuracy: 0.8146666666666667\n",
            "n_neighbors: 8 | KNN model accuracy: 0.8186666666666667\n",
            "n_neighbors: 9 | KNN model accuracy: 0.8163333333333334\n",
            "n_neighbors: 10 | KNN model accuracy: 0.8146666666666667\n",
            "n_neighbors: 11 | KNN model accuracy: 0.817\n",
            "n_neighbors: 12 | KNN model accuracy: 0.816\n",
            "n_neighbors: 13 | KNN model accuracy: 0.817\n",
            "n_neighbors: 14 | KNN model accuracy: 0.8136666666666666\n",
            "n_neighbors: 15 | KNN model accuracy: 0.8183333333333334\n",
            "n_neighbors: 16 | KNN model accuracy: 0.812\n",
            "n_neighbors: 17 | KNN model accuracy: 0.811\n",
            "n_neighbors: 18 | KNN model accuracy: 0.8116666666666666\n",
            "n_neighbors: 19 | KNN model accuracy: 0.8123333333333334\n",
            "n_neighbors: 20 | KNN model accuracy: 0.8133333333333334\n",
            "n_neighbors: 21 | KNN model accuracy: 0.8103333333333333\n",
            "n_neighbors: 22 | KNN model accuracy: 0.8126666666666666\n",
            "n_neighbors: 23 | KNN model accuracy: 0.8116666666666666\n",
            "n_neighbors: 24 | KNN model accuracy: 0.8143333333333334\n",
            "n_neighbors: 25 | KNN model accuracy: 0.8153333333333334\n",
            "n_neighbors: 26 | KNN model accuracy: 0.813\n",
            "n_neighbors: 27 | KNN model accuracy: 0.8136666666666666\n",
            "n_neighbors: 28 | KNN model accuracy: 0.8123333333333334\n",
            "n_neighbors: 29 | KNN model accuracy: 0.8133333333333334\n",
            "n_neighbors: 30 | KNN model accuracy: 0.8126666666666666\n",
            "n_neighbors: 31 | KNN model accuracy: 0.8133333333333334\n",
            "n_neighbors: 32 | KNN model accuracy: 0.8133333333333334\n",
            "n_neighbors: 33 | KNN model accuracy: 0.8123333333333334\n",
            "n_neighbors: 34 | KNN model accuracy: 0.8123333333333334\n",
            "n_neighbors: 35 | KNN model accuracy: 0.813\n",
            "n_neighbors: 36 | KNN model accuracy: 0.8113333333333334\n",
            "n_neighbors: 37 | KNN model accuracy: 0.8123333333333334\n",
            "n_neighbors: 38 | KNN model accuracy: 0.8103333333333333\n",
            "n_neighbors: 39 | KNN model accuracy: 0.8113333333333334\n",
            "n_neighbors: 40 | KNN model accuracy: 0.8103333333333333\n",
            "n_neighbors: 41 | KNN model accuracy: 0.812\n",
            "n_neighbors: 42 | KNN model accuracy: 0.8093333333333333\n",
            "n_neighbors: 43 | KNN model accuracy: 0.8093333333333333\n",
            "n_neighbors: 44 | KNN model accuracy: 0.809\n",
            "n_neighbors: 45 | KNN model accuracy: 0.809\n",
            "n_neighbors: 46 | KNN model accuracy: 0.8086666666666666\n",
            "n_neighbors: 47 | KNN model accuracy: 0.8106666666666666\n",
            "n_neighbors: 48 | KNN model accuracy: 0.8096666666666666\n",
            "n_neighbors: 49 | KNN model accuracy: 0.8116666666666666\n",
            "n_neighbors: 50 | KNN model accuracy: 0.8086666666666666\n",
            "n_neighbors: 51 | KNN model accuracy: 0.8103333333333333\n",
            "n_neighbors: 52 | KNN model accuracy: 0.809\n",
            "n_neighbors: 53 | KNN model accuracy: 0.8093333333333333\n",
            "n_neighbors: 54 | KNN model accuracy: 0.8086666666666666\n",
            "n_neighbors: 55 | KNN model accuracy: 0.809\n",
            "n_neighbors: 56 | KNN model accuracy: 0.8086666666666666\n",
            "n_neighbors: 57 | KNN model accuracy: 0.8083333333333333\n",
            "n_neighbors: 58 | KNN model accuracy: 0.808\n",
            "n_neighbors: 59 | KNN model accuracy: 0.8093333333333333\n",
            "n_neighbors: 60 | KNN model accuracy: 0.8083333333333333\n",
            "n_neighbors: 61 | KNN model accuracy: 0.8086666666666666\n",
            "n_neighbors: 62 | KNN model accuracy: 0.808\n",
            "n_neighbors: 63 | KNN model accuracy: 0.8093333333333333\n",
            "n_neighbors: 64 | KNN model accuracy: 0.807\n",
            "n_neighbors: 65 | KNN model accuracy: 0.8086666666666666\n",
            "n_neighbors: 66 | KNN model accuracy: 0.808\n",
            "n_neighbors: 67 | KNN model accuracy: 0.8083333333333333\n",
            "n_neighbors: 68 | KNN model accuracy: 0.807\n",
            "n_neighbors: 69 | KNN model accuracy: 0.8073333333333333\n",
            "n_neighbors: 70 | KNN model accuracy: 0.8083333333333333\n",
            "n_neighbors: 71 | KNN model accuracy: 0.8086666666666666\n",
            "n_neighbors: 72 | KNN model accuracy: 0.8086666666666666\n",
            "n_neighbors: 73 | KNN model accuracy: 0.8086666666666666\n",
            "n_neighbors: 74 | KNN model accuracy: 0.8083333333333333\n",
            "n_neighbors: 75 | KNN model accuracy: 0.8083333333333333\n",
            "n_neighbors: 76 | KNN model accuracy: 0.8073333333333333\n",
            "n_neighbors: 77 | KNN model accuracy: 0.8076666666666666\n",
            "n_neighbors: 78 | KNN model accuracy: 0.808\n",
            "n_neighbors: 79 | KNN model accuracy: 0.8083333333333333\n",
            "n_neighbors: 80 | KNN model accuracy: 0.8076666666666666\n",
            "n_neighbors: 81 | KNN model accuracy: 0.8086666666666666\n",
            "n_neighbors: 82 | KNN model accuracy: 0.8076666666666666\n",
            "n_neighbors: 83 | KNN model accuracy: 0.8086666666666666\n",
            "n_neighbors: 84 | KNN model accuracy: 0.807\n",
            "n_neighbors: 85 | KNN model accuracy: 0.808\n",
            "n_neighbors: 86 | KNN model accuracy: 0.8063333333333333\n",
            "n_neighbors: 87 | KNN model accuracy: 0.807\n",
            "n_neighbors: 88 | KNN model accuracy: 0.806\n",
            "n_neighbors: 89 | KNN model accuracy: 0.8063333333333333\n",
            "n_neighbors: 90 | KNN model accuracy: 0.8056666666666666\n",
            "n_neighbors: 91 | KNN model accuracy: 0.806\n",
            "n_neighbors: 92 | KNN model accuracy: 0.8046666666666666\n",
            "n_neighbors: 93 | KNN model accuracy: 0.8056666666666666\n",
            "n_neighbors: 94 | KNN model accuracy: 0.805\n",
            "n_neighbors: 95 | KNN model accuracy: 0.8053333333333333\n",
            "n_neighbors: 96 | KNN model accuracy: 0.8046666666666666\n",
            "n_neighbors: 97 | KNN model accuracy: 0.806\n",
            "n_neighbors: 98 | KNN model accuracy: 0.8046666666666666\n",
            "n_neighbors: 99 | KNN model accuracy: 0.806\n",
            "n_neighbors: 100 | KNN model accuracy: 0.8043333333333333\n"
          ]
        }
      ]
    },
    {
      "cell_type": "code",
      "source": [
        "import matplotlib.pyplot as plt\n",
        "import numpy as np\n",
        "\n",
        "x_values = list(range(1, 101))\n",
        "x_values_np = np.array(x_values)\n",
        "\n",
        "plt.plot(x_values, knn_predicts)\n",
        "plt.show()"
      ],
      "metadata": {
        "colab": {
          "base_uri": "https://localhost:8080/",
          "height": 430
        },
        "id": "VFkZoI4OpBls",
        "outputId": "577c74da-78f1-4bc1-990d-f9c6e2f73300"
      },
      "execution_count": null,
      "outputs": [
        {
          "output_type": "display_data",
          "data": {
            "text/plain": [
              "<Figure size 640x480 with 1 Axes>"
            ],
            "image/png": "[encoded data removed]"
          },
          "metadata": {}
        }
      ]
    },
    {
      "cell_type": "markdown",
      "source": [
        "# **머신러닝 - SVM 모델**"
      ],
      "metadata": {
        "id": "XS1bvYJB436m"
      }
    },
    {
      "cell_type": "code",
      "source": [
        "from sklearn.model_selection import train_test_split\n",
        "from sklearn import svm\n",
        "from sklearn import metrics\n",
        "from sklearn.metrics import classification_report\n",
        "# 데이터 셋을 학습, 테스트 데이터로 분할\n",
        "X_train, X_test, y_train, y_test = train_test_split(df_X, df_y, test_size=0.3, random_state=50) # random_state는 50일때가 best\n",
        "# 모델 정의(SVM)\n",
        "model_SVM = svm.SVC(kernel='linear')\n",
        "# 모델 학습\n",
        "model_SVM.fit(X_train, y_train)\n",
        "# 모델 검증\n",
        "pred_SVM = model_SVM.predict(X_test)\n",
        "\n",
        "print('KNN model accuracy:', metrics.accuracy_score(y_test, pred_SVM))\n",
        "print(classification_report(y_test, pred_SVM))"
      ],
      "metadata": {
        "id": "NQMSxCgod53V"
      },
      "execution_count": null,
      "outputs": []
    },
    {
      "cell_type": "markdown",
      "source": [
        "# **딥러닝 - 인공신경망을 이용한 DNN 모델**"
      ],
      "metadata": {
        "id": "lL66_B4H6XpS"
      }
    },
    {
      "cell_type": "code",
      "source": [
        "# !pip install keras\n",
        "from sklearn.model_selection import train_test_split\n",
        "from keras.models import Sequential\n",
        "from keras.layers import Dense\n",
        "# 데이터 셋을 학습, 테스트 데이터로 분할\n",
        "X_train, X_test, y_train, y_test = train_test_split(df_X, df_y, test_size=0.3, random_state=50) # random_state는 50일때가 best\n",
        "\n",
        "# 모델 정의(DNN)\n",
        "model_DNN = Sequential()\n",
        "model_DNN.add(Dense(64, input_dim=X_train.shape[1], activation='relu'))\n",
        "model_DNN.add(Dense(32, activation='relu'))\n",
        "model_DNN.add(Dense(16, activation='relu'))\n",
        "model_DNN.add(Dense(8, activation='relu'))\n",
        "model_DNN.add(Dense(1, activation='sigmoid'))\n",
        "\n",
        "print(model_DNN.summary())\n",
        "\n",
        "# 모델 컴파일\n",
        "model_DNN.compile(loss='binary_crossentropy', optimizer='adam', metrics=['accuracy'])\n",
        "\n",
        "# 모델 학습 시키기\n",
        "hist = model_DNN.fit(X_train, y_train, batch_size=30, epochs=70, validation_split=0.2)\n",
        "\n",
        "# 모델 평가\n",
        "score_DNN = model_DNN.evaluate(X_test, y_test)\n",
        "print('DNN score:', score_DNN)"
      ],
      "metadata": {
        "id": "ft0JWFoneF6O"
      },
      "execution_count": null,
      "outputs": []
    },
    {
      "cell_type": "markdown",
      "source": [
        "# **최적의 epchos를 찾기위해 epoch에 따른 accuracy 와 loss 시각화**"
      ],
      "metadata": {
        "id": "G4ycVQIt-sHD"
      }
    },
    {
      "cell_type": "code",
      "source": [
        "import matplotlib.pyplot as plt\n",
        "\n",
        "#\n",
        "# 학습 후 metrics = ['accuracy'] 에 대하여 그 결과를 시각화\n",
        "#\n",
        "print(hist.history.keys())\n",
        "# train, val 에 대한 정확도 그래프 그리기\n",
        "plt.plot(hist.history['accuracy'])\n",
        "plt.plot(hist.history['val_accuracy'])\n",
        "plt.title('model accuracy')\n",
        "plt.xlabel('epoch')\n",
        "plt.ylabel('accuracy')\n",
        "plt.legend(['train', 'val'], loc='upper left')\n",
        "plt.show()\n",
        "# train, val 에 대한 로스율 그래프 그리기\n",
        "plt.plot(hist.history['loss'])\n",
        "plt.plot(hist.history['val_loss'])\n",
        "plt.title('model loss')\n",
        "plt.xlabel('epoch')\n",
        "plt.ylabel('loss')\n",
        "plt.legend(['train', 'val'], loc='upper left')\n",
        "plt.show()"
      ],
      "metadata": {
        "id": "_o93tW6leeVf"
      },
      "execution_count": null,
      "outputs": []
    },
    {
      "cell_type": "markdown",
      "source": [
        "# **시각화시 한글 폰트 적용**"
      ],
      "metadata": {
        "id": "p77vRhkl2XO2"
      }
    },
    {
      "cell_type": "code",
      "source": [
        "!sudo apt-get install -y fonts-nanum\n",
        "!sudo fc-cache -fv\n",
        "!rm ~/.cache/matplotlib -rf"
      ],
      "metadata": {
        "id": "02HKAsaJ0Wd6"
      },
      "execution_count": null,
      "outputs": []
    },
    {
      "cell_type": "markdown",
      "source": [
        "# **고객 데이터를 생성하여 DNN 모델 예측 테스트**"
      ],
      "metadata": {
        "id": "Slju7N4J2drt"
      }
    },
    {
      "cell_type": "code",
      "source": [
        "# 실험용 데이터를 생성하기 위해 필요한 컬럼들이 무엇이 있는지 알아보기\n",
        "print(X_train.columns)\n",
        "\n",
        "X_train.info()\n",
        "\n",
        "print(X_train.head(3))\n",
        "print(\"^\" * 100)\n",
        "print(\"^\" * 100)\n",
        "print(\"^\" * 100)\n",
        "\n",
        "# 테스트용 데이터 5명의 가상 고객 데이터 생성\n",
        "credit_scores = [0.721, 0.342, 0.543, 0.123, 0.798]\n",
        "ages = [0.2513, 0.3523, 0.4444, 0.5223, 0.6112]\n",
        "tenures = [0.3, 0.4, 0.6, 0.8, 0.6]\n",
        "balances = [0.59233, 0.53424, 0.67543, 0.34564, 0.98632]\n",
        "product_numbers = [0.333333, 0.000000, 0.000000, 0.000000, 0.333333]\n",
        "credit_cards = [0.0, 1.0, 1.0, 1.0, 0.0]\n",
        "active_members = [1.0, 1.0, 1.0, 0.0, 0.0]\n",
        "estimated_salaries = [0.847394, 0.748374, 0.758348, 0.713383, 0.443234]\n",
        "country_Germanys = [0.0, 1.0, 1.0, 1.0, 0.0]\n",
        "country_Spains = [1.0, 0.0, 0.0, 0.0, 0.0]\n",
        "gender_males = [1.0, 1.0, 0.0, 0.0, 0.0]\n",
        "# churn이 들어가야 하나? ai가 churn을 예측하게 해야하는데.. 매칭 시키는건가? 모르겠다..\n",
        "\n",
        "my_columns = list(X_train.columns.values)\n",
        "\n",
        "print(\"my_columns:\", my_columns)\n",
        "\n",
        "my_dict = {\n",
        "    my_columns[0]: credit_scores,\n",
        "    my_columns[1]: ages,\n",
        "    my_columns[2]: tenures,\n",
        "    my_columns[3]: balances,\n",
        "    my_columns[4]: product_numbers,\n",
        "    my_columns[5]: credit_cards,\n",
        "    my_columns[6]: active_members,\n",
        "    my_columns[7]: estimated_salaries,\n",
        "    my_columns[8]: country_Germanys,\n",
        "    my_columns[9]: country_Spains,\n",
        "    my_columns[10]: gender_males\n",
        "}\n",
        "\n",
        "my_customers = pd.DataFrame(my_dict)\n",
        "print(\"*\" * 100)\n",
        "print(my_customers.info())\n",
        "print(my_customers.head(3))\n",
        "print(\"*\" * 100)\n",
        "\n",
        "# 생성한 데이터로 모델 테스트\n",
        "print(\"#\" * 120)\n",
        "print(\"모델 예측 시작\")\n",
        "print(\"#\" * 120)\n",
        "# 모델에게 예측 시키고 그 결과를 numpy array로 리턴받음\n",
        "pred_results = model_DNN.predict(my_customers, batch_size=1)\n",
        "print('예측 결과:\\n', pred_results)\n",
        "# pred_results = list(pred_results) # 다루기 쉽게(개인적으로) list로 전환\n",
        "\n",
        "print(\"=\" * 100)\n",
        "print(\"AI가 예측한 각 고객의 은행과의 거래 정지 여부\")\n",
        "print(\"=\" * 100)\n",
        "# ai가 리턴한 값은 각 고객의 churn이 1(거래 중지) 이 될 확률,\n",
        "# 이 확률이 0.5보다 크거나 같으면 거래중지로 판단했다고 가정한다\n",
        "n = 1\n",
        "for result in pred_results:\n",
        "  if result >= 0.5:\n",
        "    print(f\"[{n}]번 고객님은 은행과 거래 중지를 할것입니다.\")\n",
        "  else:\n",
        "    print(f\"[{n}]번 고객님은 은행과 거래 중지를 하지 않을 것입니다\")\n",
        "  n = n + 1\n",
        "\n",
        "\n",
        "import matplotlib.pyplot as plt\n",
        "\n",
        "# x_data = [1, 2, 3, 4, 5]\n",
        "# plt.plot(x_data, pred_results, 'rs:')\n",
        "\n",
        "# plt.show()\n",
        "\n",
        "plt.rc('font', family='NanumGothic')\n",
        "plt.rc('axes', unicode_minus=False)\n",
        "\n",
        "# 예측 결과 1D 변환\n",
        "pred_churn_probabilities = pred_results.flatten()\n",
        "\n",
        "# x축 데이터: 고객 이름을 더 명확하게 표시\n",
        "customer_labels = [f'고객 {i}' for i in range(1, 6)]\n",
        "\n",
        "# --- 그래프 그리기 ---\n",
        "# 그래프 사이즈를 조절하여 더 보기 좋게 만듭니다.\n",
        "plt.figure(figsize=(10, 6))\n",
        "\n",
        "# 막대 그래프로 시각화 (색상과 투명도 조절)\n",
        "bars = plt.bar(customer_labels, pred_churn_probabilities, color='skyblue', alpha=0.8)\n",
        "\n",
        "# [핵심] 이탈 여부를 결정하는 임계값(0.5)을 빨간 점선으로 표시\n",
        "plt.axhline(y=0.5, color='r', linestyle='--', linewidth=2, label='이탈 기준선 (0.5)')\n",
        "\n",
        "# 막대 위에 실제 확률 값을 텍스트로 표시\n",
        "for bar in bars:\n",
        "    yval = bar.get_height()\n",
        "    # 소수점 3자리까지 반올림하여 표시\n",
        "    plt.text(bar.get_x() + bar.get_width()/2.0, yval + 0.01, f'{yval:.3f}', ha='center', va='bottom', fontsize=11)\n",
        "\n",
        "# X축, Y축 레이블 설정 (폰트 크기 조절)\n",
        "plt.xlabel(\"고객\", fontsize=12)\n",
        "plt.ylabel(\"이탈(Churn) 예측 확률\", fontsize=12)\n",
        "\n",
        "# 그래프 제목 설정\n",
        "plt.title(\"고객별 이탈 예측 확률 분석\", fontsize=16, pad=20)\n",
        "\n",
        "# Y축의 범위를 0.0부터 1.0까지로 설정하여 확률을 명확하게 표현\n",
        "plt.ylim(0, 1.05)\n",
        "\n",
        "# 범례(Legend) 표시\n",
        "plt.legend()\n",
        "\n",
        "# 배경에 그리드를 추가하여 가독성 향상\n",
        "plt.grid(axis='y', linestyle=':', alpha=0.7)\n",
        "\n",
        "# 레이아웃을 깔끔하게 자동 조정\n",
        "plt.tight_layout()\n",
        "\n",
        "# 그래프 표시\n",
        "plt.show()"
      ],
      "metadata": {
        "id": "--mpZic8mG38"
      },
      "execution_count": null,
      "outputs": []
    }
  ]
}